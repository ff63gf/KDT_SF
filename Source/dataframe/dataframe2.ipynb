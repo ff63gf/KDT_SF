{
 "cells": [
  {
   "cell_type": "code",
   "execution_count": 1,
   "id": "6a2acd7c",
   "metadata": {
    "dotnet_interactive": {
     "language": "csharp"
    },
    "polyglot_notebook": {
     "kernelName": "csharp"
    },
    "vscode": {
     "languageId": "polyglot-notebook"
    }
   },
   "outputs": [
    {
     "data": {
      "text/html": [
       "\r\n",
       "<div>\r\n",
       "    <div id='dotnet-interactive-this-cell-32844.Microsoft.DotNet.Interactive.Http.HttpPort' style='display: none'>\r\n",
       "        The below script needs to be able to find the current output cell; this is an easy method to get it.\r\n",
       "    </div>\r\n",
       "    <script type='text/javascript'>\r\n",
       "async function probeAddresses(probingAddresses) {\r\n",
       "    function timeout(ms, promise) {\r\n",
       "        return new Promise(function (resolve, reject) {\r\n",
       "            setTimeout(function () {\r\n",
       "                reject(new Error('timeout'))\r\n",
       "            }, ms)\r\n",
       "            promise.then(resolve, reject)\r\n",
       "        })\r\n",
       "    }\r\n",
       "\r\n",
       "    if (Array.isArray(probingAddresses)) {\r\n",
       "        for (let i = 0; i < probingAddresses.length; i++) {\r\n",
       "\r\n",
       "            let rootUrl = probingAddresses[i];\r\n",
       "\r\n",
       "            if (!rootUrl.endsWith('/')) {\r\n",
       "                rootUrl = `${rootUrl}/`;\r\n",
       "            }\r\n",
       "\r\n",
       "            try {\r\n",
       "                let response = await timeout(1000, fetch(`${rootUrl}discovery`, {\r\n",
       "                    method: 'POST',\r\n",
       "                    cache: 'no-cache',\r\n",
       "                    mode: 'cors',\r\n",
       "                    timeout: 1000,\r\n",
       "                    headers: {\r\n",
       "                        'Content-Type': 'text/plain'\r\n",
       "                    },\r\n",
       "                    body: probingAddresses[i]\r\n",
       "                }));\r\n",
       "\r\n",
       "                if (response.status == 200) {\r\n",
       "                    return rootUrl;\r\n",
       "                }\r\n",
       "            }\r\n",
       "            catch (e) { }\r\n",
       "        }\r\n",
       "    }\r\n",
       "}\r\n",
       "\r\n",
       "function loadDotnetInteractiveApi() {\r\n",
       "    probeAddresses([\"http://192.168.0.2:2048/\", \"http://127.0.0.1:2048/\"])\r\n",
       "        .then((root) => {\r\n",
       "        // use probing to find host url and api resources\r\n",
       "        // load interactive helpers and language services\r\n",
       "        let dotnetInteractiveRequire = require.config({\r\n",
       "        context: '32844.Microsoft.DotNet.Interactive.Http.HttpPort',\r\n",
       "                paths:\r\n",
       "            {\r\n",
       "                'dotnet-interactive': `${root}resources`\r\n",
       "                }\r\n",
       "        }) || require;\r\n",
       "\r\n",
       "            window.dotnetInteractiveRequire = dotnetInteractiveRequire;\r\n",
       "\r\n",
       "            window.configureRequireFromExtension = function(extensionName, extensionCacheBuster) {\r\n",
       "                let paths = {};\r\n",
       "                paths[extensionName] = `${root}extensions/${extensionName}/resources/`;\r\n",
       "                \r\n",
       "                let internalRequire = require.config({\r\n",
       "                    context: extensionCacheBuster,\r\n",
       "                    paths: paths,\r\n",
       "                    urlArgs: `cacheBuster=${extensionCacheBuster}`\r\n",
       "                    }) || require;\r\n",
       "\r\n",
       "                return internalRequire\r\n",
       "            };\r\n",
       "        \r\n",
       "            dotnetInteractiveRequire([\r\n",
       "                    'dotnet-interactive/dotnet-interactive'\r\n",
       "                ],\r\n",
       "                function (dotnet) {\r\n",
       "                    dotnet.init(window);\r\n",
       "                },\r\n",
       "                function (error) {\r\n",
       "                    console.log(error);\r\n",
       "                }\r\n",
       "            );\r\n",
       "        })\r\n",
       "        .catch(error => {console.log(error);});\r\n",
       "    }\r\n",
       "\r\n",
       "// ensure `require` is available globally\r\n",
       "if ((typeof(require) !==  typeof(Function)) || (typeof(require.config) !== typeof(Function))) {\r\n",
       "    let require_script = document.createElement('script');\r\n",
       "    require_script.setAttribute('src', 'https://cdnjs.cloudflare.com/ajax/libs/require.js/2.3.6/require.min.js');\r\n",
       "    require_script.setAttribute('type', 'text/javascript');\r\n",
       "    \r\n",
       "    \r\n",
       "    require_script.onload = function() {\r\n",
       "        loadDotnetInteractiveApi();\r\n",
       "    };\r\n",
       "\r\n",
       "    document.getElementsByTagName('head')[0].appendChild(require_script);\r\n",
       "}\r\n",
       "else {\r\n",
       "    loadDotnetInteractiveApi();\r\n",
       "}\r\n",
       "\r\n",
       "    </script>\r\n",
       "</div>"
      ]
     },
     "metadata": {},
     "output_type": "display_data"
    },
    {
     "data": {
      "text/html": [
       "<div><div></div><div></div><div><strong>Installed Packages</strong><ul><li><span>Microsoft.Data.Analysis, 0.21.0</span></li></ul></div></div>"
      ]
     },
     "metadata": {},
     "output_type": "display_data"
    },
    {
     "data": {
      "text/plain": [
       "Loading extensions from `C:\\Users\\SPREATICS\\.nuget\\packages\\microsoft.data.analysis\\0.21.0\\interactive-extensions\\dotnet\\Microsoft.Data.Analysis.Interactive.dll`"
      ]
     },
     "metadata": {},
     "output_type": "display_data"
    }
   ],
   "source": [
    "#r \"nuget:Microsoft.Data.Analysis,0.21.0\""
   ]
  },
  {
   "cell_type": "code",
   "execution_count": 2,
   "id": "87ebf8d2",
   "metadata": {
    "vscode": {
     "languageId": "polyglot-notebook"
    }
   },
   "outputs": [],
   "source": [
    "using Microsoft.Data.Analysis;\n",
    "\n",
    "string[] names = { \"Oliver\", \"Charlotte\", \"Henry\", \"Amelia\", \"Owen\" };\n",
    "int[] ages = { 23, 19, 42, 64, 35 };\n",
    "double[] heights = { 1.91, 1.62, 1.72, 1.57, 1.85 };\n",
    "\n",
    "DataFrameColumn[] columns = {\n",
    "    new StringDataFrameColumn(\"Name\", names),\n",
    "    new PrimitiveDataFrameColumn<int>(\"Age\", ages),\n",
    "    new PrimitiveDataFrameColumn<double>(\"Height\", heights),\n",
    "};\n",
    "\n",
    "DataFrame df = new(columns);\n"
   ]
  },
  {
   "cell_type": "code",
   "execution_count": 3,
   "id": "b36d611c",
   "metadata": {
    "vscode": {
     "languageId": "polyglot-notebook"
    }
   },
   "outputs": [
    {
     "data": {
      "text/html": [
       "<table id=\"table_638572667777847618\"><thead><tr><th><i>index</i></th><th>Name</th><th>Age</th><th>Height</th></tr></thead><tbody><tr><td><i><div class=\"dni-plaintext\"><pre>0</pre></div></i></td><td>Oliver</td><td><div class=\"dni-plaintext\"><pre>23</pre></div></td><td><div class=\"dni-plaintext\"><pre>1.91</pre></div></td></tr><tr><td><i><div class=\"dni-plaintext\"><pre>1</pre></div></i></td><td>Charlotte</td><td><div class=\"dni-plaintext\"><pre>19</pre></div></td><td><div class=\"dni-plaintext\"><pre>1.62</pre></div></td></tr><tr><td><i><div class=\"dni-plaintext\"><pre>2</pre></div></i></td><td>Henry</td><td><div class=\"dni-plaintext\"><pre>42</pre></div></td><td><div class=\"dni-plaintext\"><pre>1.72</pre></div></td></tr><tr><td><i><div class=\"dni-plaintext\"><pre>3</pre></div></i></td><td>Amelia</td><td><div class=\"dni-plaintext\"><pre>64</pre></div></td><td><div class=\"dni-plaintext\"><pre>1.57</pre></div></td></tr><tr><td><i><div class=\"dni-plaintext\"><pre>4</pre></div></i></td><td>Owen</td><td><div class=\"dni-plaintext\"><pre>35</pre></div></td><td><div class=\"dni-plaintext\"><pre>1.85</pre></div></td></tr></tbody></table><style>\r\n",
       ".dni-code-hint {\r\n",
       "    font-style: italic;\r\n",
       "    overflow: hidden;\r\n",
       "    white-space: nowrap;\r\n",
       "}\r\n",
       ".dni-treeview {\r\n",
       "    white-space: nowrap;\r\n",
       "}\r\n",
       ".dni-treeview td {\r\n",
       "    vertical-align: top;\r\n",
       "    text-align: start;\r\n",
       "}\r\n",
       "details.dni-treeview {\r\n",
       "    padding-left: 1em;\r\n",
       "}\r\n",
       "table td {\r\n",
       "    text-align: start;\r\n",
       "}\r\n",
       "table tr { \r\n",
       "    vertical-align: top; \r\n",
       "    margin: 0em 0px;\r\n",
       "}\r\n",
       "table tr td pre \r\n",
       "{ \r\n",
       "    vertical-align: top !important; \r\n",
       "    margin: 0em 0px !important;\r\n",
       "} \r\n",
       "table th {\r\n",
       "    text-align: start;\r\n",
       "}\r\n",
       "</style>"
      ]
     },
     "execution_count": 3,
     "metadata": {},
     "output_type": "execute_result"
    }
   ],
   "source": [
    "df"
   ]
  },
  {
   "cell_type": "code",
   "execution_count": 4,
   "id": "db798680",
   "metadata": {
    "vscode": {
     "languageId": "polyglot-notebook"
    }
   },
   "outputs": [],
   "source": [
    "List<KeyValuePair<string, object>> newRowData = new()\n",
    "{\n",
    "    new KeyValuePair<string, object>(\"Name\", \"Scott\"),\n",
    "    new KeyValuePair<string, object>(\"Age\", 36),\n",
    "    new KeyValuePair<string, object>(\"Height\", 1.65),\n",
    "};\n",
    "\n",
    "df.Append(newRowData, inPlace: true);"
   ]
  },
  {
   "cell_type": "code",
   "execution_count": 5,
   "id": "4f3c17e7",
   "metadata": {
    "vscode": {
     "languageId": "polyglot-notebook"
    }
   },
   "outputs": [
    {
     "data": {
      "text/html": [
       "<table id=\"table_638572667786998032\"><thead><tr><th><i>index</i></th><th>Name</th><th>Age</th><th>Height</th></tr></thead><tbody><tr><td><i><div class=\"dni-plaintext\"><pre>0</pre></div></i></td><td>Oliver</td><td><div class=\"dni-plaintext\"><pre>23</pre></div></td><td><div class=\"dni-plaintext\"><pre>1.91</pre></div></td></tr><tr><td><i><div class=\"dni-plaintext\"><pre>1</pre></div></i></td><td>Charlotte</td><td><div class=\"dni-plaintext\"><pre>19</pre></div></td><td><div class=\"dni-plaintext\"><pre>1.62</pre></div></td></tr><tr><td><i><div class=\"dni-plaintext\"><pre>2</pre></div></i></td><td>Henry</td><td><div class=\"dni-plaintext\"><pre>42</pre></div></td><td><div class=\"dni-plaintext\"><pre>1.72</pre></div></td></tr><tr><td><i><div class=\"dni-plaintext\"><pre>3</pre></div></i></td><td>Amelia</td><td><div class=\"dni-plaintext\"><pre>64</pre></div></td><td><div class=\"dni-plaintext\"><pre>1.57</pre></div></td></tr><tr><td><i><div class=\"dni-plaintext\"><pre>4</pre></div></i></td><td>Owen</td><td><div class=\"dni-plaintext\"><pre>35</pre></div></td><td><div class=\"dni-plaintext\"><pre>1.85</pre></div></td></tr><tr><td><i><div class=\"dni-plaintext\"><pre>5</pre></div></i></td><td>Scott</td><td><div class=\"dni-plaintext\"><pre>36</pre></div></td><td><div class=\"dni-plaintext\"><pre>1.65</pre></div></td></tr></tbody></table><style>\r\n",
       ".dni-code-hint {\r\n",
       "    font-style: italic;\r\n",
       "    overflow: hidden;\r\n",
       "    white-space: nowrap;\r\n",
       "}\r\n",
       ".dni-treeview {\r\n",
       "    white-space: nowrap;\r\n",
       "}\r\n",
       ".dni-treeview td {\r\n",
       "    vertical-align: top;\r\n",
       "    text-align: start;\r\n",
       "}\r\n",
       "details.dni-treeview {\r\n",
       "    padding-left: 1em;\r\n",
       "}\r\n",
       "table td {\r\n",
       "    text-align: start;\r\n",
       "}\r\n",
       "table tr { \r\n",
       "    vertical-align: top; \r\n",
       "    margin: 0em 0px;\r\n",
       "}\r\n",
       "table tr td pre \r\n",
       "{ \r\n",
       "    vertical-align: top !important; \r\n",
       "    margin: 0em 0px !important;\r\n",
       "} \r\n",
       "table th {\r\n",
       "    text-align: start;\r\n",
       "}\r\n",
       "</style>"
      ]
     },
     "execution_count": 5,
     "metadata": {},
     "output_type": "execute_result"
    }
   ],
   "source": [
    "df"
   ]
  },
  {
   "cell_type": "code",
   "execution_count": 6,
   "id": "106f3eb2",
   "metadata": {
    "vscode": {
     "languageId": "polyglot-notebook"
    }
   },
   "outputs": [],
   "source": [
    "int[] weights = { 123, 321, 111, 121, 131, 141 };\n",
    "PrimitiveDataFrameColumn<int> weightCol = new(\"Weight\", weights);\n",
    "df.Columns.Add(weightCol);"
   ]
  },
  {
   "cell_type": "code",
   "execution_count": 7,
   "id": "9f5bc579",
   "metadata": {
    "vscode": {
     "languageId": "polyglot-notebook"
    }
   },
   "outputs": [
    {
     "data": {
      "text/html": [
       "<table id=\"table_638572667818671342\"><thead><tr><th><i>index</i></th><th>Name</th><th>Age</th><th>Height</th><th>Weight</th></tr></thead><tbody><tr><td><i><div class=\"dni-plaintext\"><pre>0</pre></div></i></td><td>Oliver</td><td><div class=\"dni-plaintext\"><pre>23</pre></div></td><td><div class=\"dni-plaintext\"><pre>1.91</pre></div></td><td><div class=\"dni-plaintext\"><pre>123</pre></div></td></tr><tr><td><i><div class=\"dni-plaintext\"><pre>1</pre></div></i></td><td>Charlotte</td><td><div class=\"dni-plaintext\"><pre>19</pre></div></td><td><div class=\"dni-plaintext\"><pre>1.62</pre></div></td><td><div class=\"dni-plaintext\"><pre>321</pre></div></td></tr><tr><td><i><div class=\"dni-plaintext\"><pre>2</pre></div></i></td><td>Henry</td><td><div class=\"dni-plaintext\"><pre>42</pre></div></td><td><div class=\"dni-plaintext\"><pre>1.72</pre></div></td><td><div class=\"dni-plaintext\"><pre>111</pre></div></td></tr><tr><td><i><div class=\"dni-plaintext\"><pre>3</pre></div></i></td><td>Amelia</td><td><div class=\"dni-plaintext\"><pre>64</pre></div></td><td><div class=\"dni-plaintext\"><pre>1.57</pre></div></td><td><div class=\"dni-plaintext\"><pre>121</pre></div></td></tr><tr><td><i><div class=\"dni-plaintext\"><pre>4</pre></div></i></td><td>Owen</td><td><div class=\"dni-plaintext\"><pre>35</pre></div></td><td><div class=\"dni-plaintext\"><pre>1.85</pre></div></td><td><div class=\"dni-plaintext\"><pre>131</pre></div></td></tr><tr><td><i><div class=\"dni-plaintext\"><pre>5</pre></div></i></td><td>Scott</td><td><div class=\"dni-plaintext\"><pre>36</pre></div></td><td><div class=\"dni-plaintext\"><pre>1.65</pre></div></td><td><div class=\"dni-plaintext\"><pre>141</pre></div></td></tr></tbody></table><style>\r\n",
       ".dni-code-hint {\r\n",
       "    font-style: italic;\r\n",
       "    overflow: hidden;\r\n",
       "    white-space: nowrap;\r\n",
       "}\r\n",
       ".dni-treeview {\r\n",
       "    white-space: nowrap;\r\n",
       "}\r\n",
       ".dni-treeview td {\r\n",
       "    vertical-align: top;\r\n",
       "    text-align: start;\r\n",
       "}\r\n",
       "details.dni-treeview {\r\n",
       "    padding-left: 1em;\r\n",
       "}\r\n",
       "table td {\r\n",
       "    text-align: start;\r\n",
       "}\r\n",
       "table tr { \r\n",
       "    vertical-align: top; \r\n",
       "    margin: 0em 0px;\r\n",
       "}\r\n",
       "table tr td pre \r\n",
       "{ \r\n",
       "    vertical-align: top !important; \r\n",
       "    margin: 0em 0px !important;\r\n",
       "} \r\n",
       "table th {\r\n",
       "    text-align: start;\r\n",
       "}\r\n",
       "</style>"
      ]
     },
     "execution_count": 7,
     "metadata": {},
     "output_type": "execute_result"
    }
   ],
   "source": [
    "df"
   ]
  },
  {
   "cell_type": "code",
   "execution_count": 8,
   "id": "44c7baea",
   "metadata": {
    "vscode": {
     "languageId": "polyglot-notebook"
    }
   },
   "outputs": [
    {
     "data": {
      "text/html": [
       "<table id=\"table_638572667826041498\"><thead><tr><th><i>index</i></th><th>Name</th><th>Age</th><th>Height</th><th>Weight</th></tr></thead><tbody><tr><td><i><div class=\"dni-plaintext\"><pre>0</pre></div></i></td><td>Henry</td><td><div class=\"dni-plaintext\"><pre>42</pre></div></td><td><div class=\"dni-plaintext\"><pre>1.72</pre></div></td><td><div class=\"dni-plaintext\"><pre>111</pre></div></td></tr><tr><td><i><div class=\"dni-plaintext\"><pre>1</pre></div></i></td><td>Oliver</td><td><div class=\"dni-plaintext\"><pre>23</pre></div></td><td><div class=\"dni-plaintext\"><pre>1.91</pre></div></td><td><div class=\"dni-plaintext\"><pre>123</pre></div></td></tr><tr><td><i><div class=\"dni-plaintext\"><pre>2</pre></div></i></td><td>Owen</td><td><div class=\"dni-plaintext\"><pre>35</pre></div></td><td><div class=\"dni-plaintext\"><pre>1.85</pre></div></td><td><div class=\"dni-plaintext\"><pre>131</pre></div></td></tr><tr><td><i><div class=\"dni-plaintext\"><pre>3</pre></div></i></td><td>Scott</td><td><div class=\"dni-plaintext\"><pre>36</pre></div></td><td><div class=\"dni-plaintext\"><pre>1.65</pre></div></td><td><div class=\"dni-plaintext\"><pre>141</pre></div></td></tr></tbody></table><style>\r\n",
       ".dni-code-hint {\r\n",
       "    font-style: italic;\r\n",
       "    overflow: hidden;\r\n",
       "    white-space: nowrap;\r\n",
       "}\r\n",
       ".dni-treeview {\r\n",
       "    white-space: nowrap;\r\n",
       "}\r\n",
       ".dni-treeview td {\r\n",
       "    vertical-align: top;\r\n",
       "    text-align: start;\r\n",
       "}\r\n",
       "details.dni-treeview {\r\n",
       "    padding-left: 1em;\r\n",
       "}\r\n",
       "table td {\r\n",
       "    text-align: start;\r\n",
       "}\r\n",
       "table tr { \r\n",
       "    vertical-align: top; \r\n",
       "    margin: 0em 0px;\r\n",
       "}\r\n",
       "table tr td pre \r\n",
       "{ \r\n",
       "    vertical-align: top !important; \r\n",
       "    margin: 0em 0px !important;\r\n",
       "} \r\n",
       "table th {\r\n",
       "    text-align: start;\r\n",
       "}\r\n",
       "</style>"
      ]
     },
     "execution_count": 8,
     "metadata": {},
     "output_type": "execute_result"
    }
   ],
   "source": [
    "df.OrderBy(\"Name\")\n",
    "    .Filter(df[\"Age\"].ElementwiseGreaterThan(30))"
   ]
  },
  {
   "cell_type": "code",
   "execution_count": 9,
   "id": "584b09a1",
   "metadata": {
    "vscode": {
     "languageId": "polyglot-notebook"
    }
   },
   "outputs": [
    {
     "data": {
      "text/html": [
       "<table id=\"table_638572667830113545\"><thead><tr><th><i>index</i></th><th>Name</th><th>Age</th><th>Height</th><th>Weight</th></tr></thead><tbody><tr><td><i><div class=\"dni-plaintext\"><pre>0</pre></div></i></td><td>Henry</td><td><div class=\"dni-plaintext\"><pre>42</pre></div></td><td><div class=\"dni-plaintext\"><pre>1.72</pre></div></td><td><div class=\"dni-plaintext\"><pre>111</pre></div></td></tr><tr><td><i><div class=\"dni-plaintext\"><pre>1</pre></div></i></td><td>Amelia</td><td><div class=\"dni-plaintext\"><pre>64</pre></div></td><td><div class=\"dni-plaintext\"><pre>1.57</pre></div></td><td><div class=\"dni-plaintext\"><pre>121</pre></div></td></tr><tr><td><i><div class=\"dni-plaintext\"><pre>2</pre></div></i></td><td>Owen</td><td><div class=\"dni-plaintext\"><pre>35</pre></div></td><td><div class=\"dni-plaintext\"><pre>1.85</pre></div></td><td><div class=\"dni-plaintext\"><pre>131</pre></div></td></tr><tr><td><i><div class=\"dni-plaintext\"><pre>3</pre></div></i></td><td>Scott</td><td><div class=\"dni-plaintext\"><pre>36</pre></div></td><td><div class=\"dni-plaintext\"><pre>1.65</pre></div></td><td><div class=\"dni-plaintext\"><pre>141</pre></div></td></tr></tbody></table><style>\r\n",
       ".dni-code-hint {\r\n",
       "    font-style: italic;\r\n",
       "    overflow: hidden;\r\n",
       "    white-space: nowrap;\r\n",
       "}\r\n",
       ".dni-treeview {\r\n",
       "    white-space: nowrap;\r\n",
       "}\r\n",
       ".dni-treeview td {\r\n",
       "    vertical-align: top;\r\n",
       "    text-align: start;\r\n",
       "}\r\n",
       "details.dni-treeview {\r\n",
       "    padding-left: 1em;\r\n",
       "}\r\n",
       "table td {\r\n",
       "    text-align: start;\r\n",
       "}\r\n",
       "table tr { \r\n",
       "    vertical-align: top; \r\n",
       "    margin: 0em 0px;\r\n",
       "}\r\n",
       "table tr td pre \r\n",
       "{ \r\n",
       "    vertical-align: top !important; \r\n",
       "    margin: 0em 0px !important;\r\n",
       "} \r\n",
       "table th {\r\n",
       "    text-align: start;\r\n",
       "}\r\n",
       "</style>"
      ]
     },
     "execution_count": 9,
     "metadata": {},
     "output_type": "execute_result"
    }
   ],
   "source": [
    "df.Filter(df[\"Age\"].ElementwiseGreaterThan(30))"
   ]
  },
  {
   "cell_type": "code",
   "execution_count": 17,
   "id": "f7351a30",
   "metadata": {},
   "outputs": [
    {
     "data": {
      "text/html": [
       "<table><thead><tr><th><i>index</i></th><th>value</th></tr></thead><tbody><tr><td>0</td><td><details class=\"dni-treeview\"><summary><span class=\"dni-code-hint\"><code>[ Henry, 42, 1.72, 111 ]</code></span></summary><div><table><thead><tr></tr></thead><tbody><tr><td><i>(values)</i></td><td><table><thead><tr><th><i>index</i></th><th><i>type</i></th><th>value</th></tr></thead><tbody><tr><td>0</td><td><span><a href=\"https://docs.microsoft.com/dotnet/api/system.string?view=net-7.0\">System.String</a></span></td><td><div class=\"dni-plaintext\"><pre>Henry</pre></div></td></tr><tr><td>1</td><td><span><a href=\"https://docs.microsoft.com/dotnet/api/system.int32?view=net-7.0\">System.Int32</a></span></td><td><div class=\"dni-plaintext\"><pre>42</pre></div></td></tr><tr><td>2</td><td><span><a href=\"https://docs.microsoft.com/dotnet/api/system.double?view=net-7.0\">System.Double</a></span></td><td><div class=\"dni-plaintext\"><pre>1.72</pre></div></td></tr><tr><td>3</td><td><span><a href=\"https://docs.microsoft.com/dotnet/api/system.int32?view=net-7.0\">System.Int32</a></span></td><td><div class=\"dni-plaintext\"><pre>111</pre></div></td></tr></tbody></table></td></tr></tbody></table></div></details></td></tr><tr><td>1</td><td><details class=\"dni-treeview\"><summary><span class=\"dni-code-hint\"><code>[ Amelia, 64, 1.57, 121 ]</code></span></summary><div><table><thead><tr></tr></thead><tbody><tr><td><i>(values)</i></td><td><table><thead><tr><th><i>index</i></th><th><i>type</i></th><th>value</th></tr></thead><tbody><tr><td>0</td><td><span><a href=\"https://docs.microsoft.com/dotnet/api/system.string?view=net-7.0\">System.String</a></span></td><td><div class=\"dni-plaintext\"><pre>Amelia</pre></div></td></tr><tr><td>1</td><td><span><a href=\"https://docs.microsoft.com/dotnet/api/system.int32?view=net-7.0\">System.Int32</a></span></td><td><div class=\"dni-plaintext\"><pre>64</pre></div></td></tr><tr><td>2</td><td><span><a href=\"https://docs.microsoft.com/dotnet/api/system.double?view=net-7.0\">System.Double</a></span></td><td><div class=\"dni-plaintext\"><pre>1.57</pre></div></td></tr><tr><td>3</td><td><span><a href=\"https://docs.microsoft.com/dotnet/api/system.int32?view=net-7.0\">System.Int32</a></span></td><td><div class=\"dni-plaintext\"><pre>121</pre></div></td></tr></tbody></table></td></tr></tbody></table></div></details></td></tr><tr><td>2</td><td><details class=\"dni-treeview\"><summary><span class=\"dni-code-hint\"><code>[ Owen, 35, 1.85, 131 ]</code></span></summary><div><table><thead><tr></tr></thead><tbody><tr><td><i>(values)</i></td><td><table><thead><tr><th><i>index</i></th><th><i>type</i></th><th>value</th></tr></thead><tbody><tr><td>0</td><td><span><a href=\"https://docs.microsoft.com/dotnet/api/system.string?view=net-7.0\">System.String</a></span></td><td><div class=\"dni-plaintext\"><pre>Owen</pre></div></td></tr><tr><td>1</td><td><span><a href=\"https://docs.microsoft.com/dotnet/api/system.int32?view=net-7.0\">System.Int32</a></span></td><td><div class=\"dni-plaintext\"><pre>35</pre></div></td></tr><tr><td>2</td><td><span><a href=\"https://docs.microsoft.com/dotnet/api/system.double?view=net-7.0\">System.Double</a></span></td><td><div class=\"dni-plaintext\"><pre>1.85</pre></div></td></tr><tr><td>3</td><td><span><a href=\"https://docs.microsoft.com/dotnet/api/system.int32?view=net-7.0\">System.Int32</a></span></td><td><div class=\"dni-plaintext\"><pre>131</pre></div></td></tr></tbody></table></td></tr></tbody></table></div></details></td></tr><tr><td>3</td><td><details class=\"dni-treeview\"><summary><span class=\"dni-code-hint\"><code>[ Scott, 36, 1.65, 141 ]</code></span></summary><div><table><thead><tr></tr></thead><tbody><tr><td><i>(values)</i></td><td><table><thead><tr><th><i>index</i></th><th><i>type</i></th><th>value</th></tr></thead><tbody><tr><td>0</td><td><span><a href=\"https://docs.microsoft.com/dotnet/api/system.string?view=net-7.0\">System.String</a></span></td><td><div class=\"dni-plaintext\"><pre>Scott</pre></div></td></tr><tr><td>1</td><td><span><a href=\"https://docs.microsoft.com/dotnet/api/system.int32?view=net-7.0\">System.Int32</a></span></td><td><div class=\"dni-plaintext\"><pre>36</pre></div></td></tr><tr><td>2</td><td><span><a href=\"https://docs.microsoft.com/dotnet/api/system.double?view=net-7.0\">System.Double</a></span></td><td><div class=\"dni-plaintext\"><pre>1.65</pre></div></td></tr><tr><td>3</td><td><span><a href=\"https://docs.microsoft.com/dotnet/api/system.int32?view=net-7.0\">System.Int32</a></span></td><td><div class=\"dni-plaintext\"><pre>141</pre></div></td></tr></tbody></table></td></tr></tbody></table></div></details></td></tr></tbody></table><style>\r\n",
       ".dni-code-hint {\r\n",
       "    font-style: italic;\r\n",
       "    overflow: hidden;\r\n",
       "    white-space: nowrap;\r\n",
       "}\r\n",
       ".dni-treeview {\r\n",
       "    white-space: nowrap;\r\n",
       "}\r\n",
       ".dni-treeview td {\r\n",
       "    vertical-align: top;\r\n",
       "    text-align: start;\r\n",
       "}\r\n",
       "details.dni-treeview {\r\n",
       "    padding-left: 1em;\r\n",
       "}\r\n",
       "table td {\r\n",
       "    text-align: start;\r\n",
       "}\r\n",
       "table tr { \r\n",
       "    vertical-align: top; \r\n",
       "    margin: 0em 0px;\r\n",
       "}\r\n",
       "table tr td pre \r\n",
       "{ \r\n",
       "    vertical-align: top !important; \r\n",
       "    margin: 0em 0px !important;\r\n",
       "} \r\n",
       "table th {\r\n",
       "    text-align: start;\r\n",
       "}\r\n",
       "</style>"
      ]
     },
     "execution_count": 17,
     "metadata": {},
     "output_type": "execute_result"
    }
   ],
   "source": [
    "var filteredRows = df.Rows\n",
    "            .Where(row => (int)row[\"Age\"] >= 30)\n",
    "            .ToList();\n",
    "filteredRows"
   ]
  },
  {
   "cell_type": "code",
   "execution_count": 14,
   "id": "d85d668f",
   "metadata": {},
   "outputs": [
    {
     "data": {
      "text/html": [
       "<div class=\"dni-plaintext\"><pre>[ Henry, Amelia, Owen, Scott ]</pre></div><style>\r\n",
       ".dni-code-hint {\r\n",
       "    font-style: italic;\r\n",
       "    overflow: hidden;\r\n",
       "    white-space: nowrap;\r\n",
       "}\r\n",
       ".dni-treeview {\r\n",
       "    white-space: nowrap;\r\n",
       "}\r\n",
       ".dni-treeview td {\r\n",
       "    vertical-align: top;\r\n",
       "    text-align: start;\r\n",
       "}\r\n",
       "details.dni-treeview {\r\n",
       "    padding-left: 1em;\r\n",
       "}\r\n",
       "table td {\r\n",
       "    text-align: start;\r\n",
       "}\r\n",
       "table tr { \r\n",
       "    vertical-align: top; \r\n",
       "    margin: 0em 0px;\r\n",
       "}\r\n",
       "table tr td pre \r\n",
       "{ \r\n",
       "    vertical-align: top !important; \r\n",
       "    margin: 0em 0px !important;\r\n",
       "} \r\n",
       "table th {\r\n",
       "    text-align: start;\r\n",
       "}\r\n",
       "</style>"
      ]
     },
     "execution_count": 14,
     "metadata": {},
     "output_type": "execute_result"
    }
   ],
   "source": [
    "var selectedNames = df.Rows\n",
    "            .Where(row => (int)row[\"Age\"] >= 30)\n",
    "            .Select(row => row[\"Name\"].ToString())\n",
    "            .ToList();\n",
    "selectedNames"
   ]
  },
  {
   "cell_type": "code",
   "execution_count": 12,
   "id": "17238082",
   "metadata": {
    "vscode": {
     "languageId": "polyglot-notebook"
    }
   },
   "outputs": [
    {
     "data": {
      "text/html": [
       "<table id=\"table_638570082505721597\"><thead><tr><th><i>index</i></th><th>Name</th><th>Age</th><th>Height</th><th>Weight</th></tr></thead><tbody><tr><td><i><div class=\"dni-plaintext\"><pre>0</pre></div></i></td><td>Amelia</td><td><div class=\"dni-plaintext\"><pre>64</pre></div></td><td><div class=\"dni-plaintext\"><pre>1.57</pre></div></td><td><div class=\"dni-plaintext\"><pre>121</pre></div></td></tr><tr><td><i><div class=\"dni-plaintext\"><pre>1</pre></div></i></td><td>Charlotte</td><td><div class=\"dni-plaintext\"><pre>19</pre></div></td><td><div class=\"dni-plaintext\"><pre>1.62</pre></div></td><td><div class=\"dni-plaintext\"><pre>321</pre></div></td></tr><tr><td><i><div class=\"dni-plaintext\"><pre>2</pre></div></i></td><td>Henry</td><td><div class=\"dni-plaintext\"><pre>42</pre></div></td><td><div class=\"dni-plaintext\"><pre>1.72</pre></div></td><td><div class=\"dni-plaintext\"><pre>111</pre></div></td></tr><tr><td><i><div class=\"dni-plaintext\"><pre>3</pre></div></i></td><td>Oliver</td><td><div class=\"dni-plaintext\"><pre>23</pre></div></td><td><div class=\"dni-plaintext\"><pre>1.91</pre></div></td><td><div class=\"dni-plaintext\"><pre>123</pre></div></td></tr><tr><td><i><div class=\"dni-plaintext\"><pre>4</pre></div></i></td><td>Owen</td><td><div class=\"dni-plaintext\"><pre>35</pre></div></td><td><div class=\"dni-plaintext\"><pre>1.85</pre></div></td><td><div class=\"dni-plaintext\"><pre>131</pre></div></td></tr><tr><td><i><div class=\"dni-plaintext\"><pre>5</pre></div></i></td><td>Scott</td><td><div class=\"dni-plaintext\"><pre>36</pre></div></td><td><div class=\"dni-plaintext\"><pre>1.65</pre></div></td><td><div class=\"dni-plaintext\"><pre>141</pre></div></td></tr></tbody></table><style>\r\n",
       ".dni-code-hint {\r\n",
       "    font-style: italic;\r\n",
       "    overflow: hidden;\r\n",
       "    white-space: nowrap;\r\n",
       "}\r\n",
       ".dni-treeview {\r\n",
       "    white-space: nowrap;\r\n",
       "}\r\n",
       ".dni-treeview td {\r\n",
       "    vertical-align: top;\r\n",
       "    text-align: start;\r\n",
       "}\r\n",
       "details.dni-treeview {\r\n",
       "    padding-left: 1em;\r\n",
       "}\r\n",
       "table td {\r\n",
       "    text-align: start;\r\n",
       "}\r\n",
       "table tr { \r\n",
       "    vertical-align: top; \r\n",
       "    margin: 0em 0px;\r\n",
       "}\r\n",
       "table tr td pre \r\n",
       "{ \r\n",
       "    vertical-align: top !important; \r\n",
       "    margin: 0em 0px !important;\r\n",
       "} \r\n",
       "table th {\r\n",
       "    text-align: start;\r\n",
       "}\r\n",
       "</style>"
      ]
     },
     "execution_count": 12,
     "metadata": {},
     "output_type": "execute_result"
    }
   ],
   "source": [
    "df.OrderBy(\"Name\")"
   ]
  },
  {
   "cell_type": "code",
   "execution_count": 13,
   "id": "f54e50ff",
   "metadata": {
    "vscode": {
     "languageId": "polyglot-notebook"
    }
   },
   "outputs": [
    {
     "data": {
      "text/html": [
       "<table id=\"table_638570082510207275\"><thead><tr><th><i>index</i></th><th>Name</th><th>Age</th><th>Height</th><th>Weight</th></tr></thead><tbody><tr><td><i><div class=\"dni-plaintext\"><pre>0</pre></div></i></td><td>Henry</td><td><div class=\"dni-plaintext\"><pre>42</pre></div></td><td><div class=\"dni-plaintext\"><pre>1.72</pre></div></td><td><div class=\"dni-plaintext\"><pre>111</pre></div></td></tr><tr><td><i><div class=\"dni-plaintext\"><pre>1</pre></div></i></td><td>Oliver</td><td><div class=\"dni-plaintext\"><pre>23</pre></div></td><td><div class=\"dni-plaintext\"><pre>1.91</pre></div></td><td><div class=\"dni-plaintext\"><pre>123</pre></div></td></tr><tr><td><i><div class=\"dni-plaintext\"><pre>2</pre></div></i></td><td>Owen</td><td><div class=\"dni-plaintext\"><pre>35</pre></div></td><td><div class=\"dni-plaintext\"><pre>1.85</pre></div></td><td><div class=\"dni-plaintext\"><pre>131</pre></div></td></tr><tr><td><i><div class=\"dni-plaintext\"><pre>3</pre></div></i></td><td>Scott</td><td><div class=\"dni-plaintext\"><pre>36</pre></div></td><td><div class=\"dni-plaintext\"><pre>1.65</pre></div></td><td><div class=\"dni-plaintext\"><pre>141</pre></div></td></tr></tbody></table><style>\r\n",
       ".dni-code-hint {\r\n",
       "    font-style: italic;\r\n",
       "    overflow: hidden;\r\n",
       "    white-space: nowrap;\r\n",
       "}\r\n",
       ".dni-treeview {\r\n",
       "    white-space: nowrap;\r\n",
       "}\r\n",
       ".dni-treeview td {\r\n",
       "    vertical-align: top;\r\n",
       "    text-align: start;\r\n",
       "}\r\n",
       "details.dni-treeview {\r\n",
       "    padding-left: 1em;\r\n",
       "}\r\n",
       "table td {\r\n",
       "    text-align: start;\r\n",
       "}\r\n",
       "table tr { \r\n",
       "    vertical-align: top; \r\n",
       "    margin: 0em 0px;\r\n",
       "}\r\n",
       "table tr td pre \r\n",
       "{ \r\n",
       "    vertical-align: top !important; \r\n",
       "    margin: 0em 0px !important;\r\n",
       "} \r\n",
       "table th {\r\n",
       "    text-align: start;\r\n",
       "}\r\n",
       "</style>"
      ]
     },
     "execution_count": 13,
     "metadata": {},
     "output_type": "execute_result"
    }
   ],
   "source": [
    "df.OrderBy(\"Name\").Filter(df[\"Age\"].ElementwiseGreaterThan(30))"
   ]
  },
  {
   "cell_type": "code",
   "execution_count": 14,
   "id": "769b0865",
   "metadata": {
    "vscode": {
     "languageId": "polyglot-notebook"
    }
   },
   "outputs": [
    {
     "data": {
      "text/html": [
       "<table id=\"table_638570082514414031\"><thead><tr><th><i>index</i></th><th>Name</th><th>Age</th><th>Height</th><th>Weight</th></tr></thead><tbody><tr><td><i><div class=\"dni-plaintext\"><pre>0</pre></div></i></td><td>Amelia</td><td><div class=\"dni-plaintext\"><pre>64</pre></div></td><td><div class=\"dni-plaintext\"><pre>1.57</pre></div></td><td><div class=\"dni-plaintext\"><pre>121</pre></div></td></tr><tr><td><i><div class=\"dni-plaintext\"><pre>1</pre></div></i></td><td>Henry</td><td><div class=\"dni-plaintext\"><pre>42</pre></div></td><td><div class=\"dni-plaintext\"><pre>1.72</pre></div></td><td><div class=\"dni-plaintext\"><pre>111</pre></div></td></tr><tr><td><i><div class=\"dni-plaintext\"><pre>2</pre></div></i></td><td>Owen</td><td><div class=\"dni-plaintext\"><pre>35</pre></div></td><td><div class=\"dni-plaintext\"><pre>1.85</pre></div></td><td><div class=\"dni-plaintext\"><pre>131</pre></div></td></tr><tr><td><i><div class=\"dni-plaintext\"><pre>3</pre></div></i></td><td>Scott</td><td><div class=\"dni-plaintext\"><pre>36</pre></div></td><td><div class=\"dni-plaintext\"><pre>1.65</pre></div></td><td><div class=\"dni-plaintext\"><pre>141</pre></div></td></tr></tbody></table><style>\r\n",
       ".dni-code-hint {\r\n",
       "    font-style: italic;\r\n",
       "    overflow: hidden;\r\n",
       "    white-space: nowrap;\r\n",
       "}\r\n",
       ".dni-treeview {\r\n",
       "    white-space: nowrap;\r\n",
       "}\r\n",
       ".dni-treeview td {\r\n",
       "    vertical-align: top;\r\n",
       "    text-align: start;\r\n",
       "}\r\n",
       "details.dni-treeview {\r\n",
       "    padding-left: 1em;\r\n",
       "}\r\n",
       "table td {\r\n",
       "    text-align: start;\r\n",
       "}\r\n",
       "table tr { \r\n",
       "    vertical-align: top; \r\n",
       "    margin: 0em 0px;\r\n",
       "}\r\n",
       "table tr td pre \r\n",
       "{ \r\n",
       "    vertical-align: top !important; \r\n",
       "    margin: 0em 0px !important;\r\n",
       "} \r\n",
       "table th {\r\n",
       "    text-align: start;\r\n",
       "}\r\n",
       "</style>"
      ]
     },
     "execution_count": 14,
     "metadata": {},
     "output_type": "execute_result"
    }
   ],
   "source": [
    "var orderedDf = df.OrderBy(\"Name\");\n",
    "var filteredDf = orderedDf.Filter(orderedDf[\"Age\"].ElementwiseGreaterThan(30));\n",
    "filteredDf"
   ]
  },
  {
   "cell_type": "code",
   "execution_count": 15,
   "id": "5dbbcfd0",
   "metadata": {
    "vscode": {
     "languageId": "polyglot-notebook"
    }
   },
   "outputs": [
    {
     "data": {
      "text/html": [
       "<table id=\"table_638570082519092127\"><thead><tr><th><i>index</i></th><th>Name</th><th>Age</th><th>Height</th><th>Weight</th><th>IQ</th></tr></thead><tbody><tr><td><i><div class=\"dni-plaintext\"><pre>0</pre></div></i></td><td>Oliver</td><td><div class=\"dni-plaintext\"><pre>23</pre></div></td><td><div class=\"dni-plaintext\"><pre>1.91</pre></div></td><td><div class=\"dni-plaintext\"><pre>123</pre></div></td><td><div class=\"dni-plaintext\"><pre>65.895</pre></div></td></tr><tr><td><i><div class=\"dni-plaintext\"><pre>1</pre></div></i></td><td>Charlotte</td><td><div class=\"dni-plaintext\"><pre>19</pre></div></td><td><div class=\"dni-plaintext\"><pre>1.62</pre></div></td><td><div class=\"dni-plaintext\"><pre>321</pre></div></td><td><div class=\"dni-plaintext\"><pre>46.17</pre></div></td></tr><tr><td><i><div class=\"dni-plaintext\"><pre>2</pre></div></i></td><td>Henry</td><td><div class=\"dni-plaintext\"><pre>42</pre></div></td><td><div class=\"dni-plaintext\"><pre>1.72</pre></div></td><td><div class=\"dni-plaintext\"><pre>111</pre></div></td><td><div class=\"dni-plaintext\"><pre>108.35999999999999</pre></div></td></tr><tr><td><i><div class=\"dni-plaintext\"><pre>3</pre></div></i></td><td>Amelia</td><td><div class=\"dni-plaintext\"><pre>64</pre></div></td><td><div class=\"dni-plaintext\"><pre>1.57</pre></div></td><td><div class=\"dni-plaintext\"><pre>121</pre></div></td><td><div class=\"dni-plaintext\"><pre>150.72</pre></div></td></tr><tr><td><i><div class=\"dni-plaintext\"><pre>4</pre></div></i></td><td>Owen</td><td><div class=\"dni-plaintext\"><pre>35</pre></div></td><td><div class=\"dni-plaintext\"><pre>1.85</pre></div></td><td><div class=\"dni-plaintext\"><pre>131</pre></div></td><td><div class=\"dni-plaintext\"><pre>97.125</pre></div></td></tr><tr><td><i><div class=\"dni-plaintext\"><pre>5</pre></div></i></td><td>Scott</td><td><div class=\"dni-plaintext\"><pre>36</pre></div></td><td><div class=\"dni-plaintext\"><pre>1.65</pre></div></td><td><div class=\"dni-plaintext\"><pre>141</pre></div></td><td><div class=\"dni-plaintext\"><pre>89.1</pre></div></td></tr></tbody></table><style>\r\n",
       ".dni-code-hint {\r\n",
       "    font-style: italic;\r\n",
       "    overflow: hidden;\r\n",
       "    white-space: nowrap;\r\n",
       "}\r\n",
       ".dni-treeview {\r\n",
       "    white-space: nowrap;\r\n",
       "}\r\n",
       ".dni-treeview td {\r\n",
       "    vertical-align: top;\r\n",
       "    text-align: start;\r\n",
       "}\r\n",
       "details.dni-treeview {\r\n",
       "    padding-left: 1em;\r\n",
       "}\r\n",
       "table td {\r\n",
       "    text-align: start;\r\n",
       "}\r\n",
       "table tr { \r\n",
       "    vertical-align: top; \r\n",
       "    margin: 0em 0px;\r\n",
       "}\r\n",
       "table tr td pre \r\n",
       "{ \r\n",
       "    vertical-align: top !important; \r\n",
       "    margin: 0em 0px !important;\r\n",
       "} \r\n",
       "table th {\r\n",
       "    text-align: start;\r\n",
       "}\r\n",
       "</style>"
      ]
     },
     "execution_count": 15,
     "metadata": {},
     "output_type": "execute_result"
    }
   ],
   "source": [
    "DataFrameColumn iqCol = df[\"Age\"] * df[\"Height\"] * 1.5;\n",
    "\n",
    "double[] iqs = Enumerable.Range(0, (int)iqCol.Length)\n",
    "    .Select(x => (double)iqCol[x])\n",
    "    .ToArray();\n",
    "\n",
    "df.Columns.Add(new PrimitiveDataFrameColumn<double>(\"IQ\", iqs));\n",
    "df"
   ]
  },
  {
   "cell_type": "code",
   "execution_count": 16,
   "id": "90dcb317",
   "metadata": {
    "vscode": {
     "languageId": "polyglot-notebook"
    }
   },
   "outputs": [],
   "source": [
    "private static (double mean, double std) MeanAndStd(double[] values)\n",
    "{\n",
    "\tif (values is null)\n",
    "\t\tthrow new ArgumentNullException(nameof(values));\n",
    "\n",
    "\tif (values.Length == 0)\n",
    "\t\tthrow new ArgumentException($\"{nameof(values)} must not be empty\");\n",
    "\n",
    "\tdouble sum = 0;\n",
    "\tfor (int i = 0; i < values.Length; i++)\n",
    "\t\tsum += values[i];\n",
    "\n",
    "\tdouble mean = sum / values.Length;\n",
    "\n",
    "\tdouble sumVariancesSquared = 0;\n",
    "\tfor (int i = 0; i < values.Length; i++)\n",
    "\t{\n",
    "\t\tdouble pointVariance = Math.Abs(mean - values[i]);\n",
    "\t\tdouble pointVarianceSquared = Math.Pow(pointVariance, 2);\n",
    "\t\tsumVariancesSquared += pointVarianceSquared;\n",
    "\t}\n",
    "\n",
    "\tdouble meanVarianceSquared = sumVariancesSquared / values.Length;\n",
    "\tdouble std = Math.Sqrt(meanVarianceSquared);\n",
    "\n",
    "\treturn (mean, std);\n",
    "}"
   ]
  },
  {
   "cell_type": "code",
   "execution_count": 17,
   "id": "afc377a6",
   "metadata": {
    "vscode": {
     "languageId": "polyglot-notebook"
    }
   },
   "outputs": [
    {
     "name": "stdout",
     "output_type": "stream",
     "text": [
      "Age = 36.5 +/- 14.592 (n=6)\n",
      "Height = 1.72 +/- 0.123 (n=6)\n",
      "Weight = 158 +/- 73.473 (n=6)\n",
      "IQ = 92.895 +/- 32.983 (n=6)\n"
     ]
    }
   ],
   "source": [
    "foreach (DataFrameColumn col in df.Columns.Skip(1))\n",
    "{\n",
    "    // warning: additional care must be taken for datasets which contain null\n",
    "    double[] values = Enumerable.Range(0, (int)col.Length).Select(x => Convert.ToDouble(col[x])).ToArray();\n",
    "    (double mean, double std) = MeanAndStd(values);\n",
    "    Console.WriteLine($\"{col.Name} = {mean} +/- {std:N3} (n={values.Length})\");\n",
    "}"
   ]
  },
  {
   "cell_type": "code",
   "execution_count": 18,
   "id": "c727cc74",
   "metadata": {
    "vscode": {
     "languageId": "plaintext"
    }
   },
   "outputs": [],
   "source": [
    "DataFrame.SaveCsv(df, \"result.csv\", ',');"
   ]
  },
  {
   "cell_type": "code",
   "execution_count": null,
   "id": "1911792a",
   "metadata": {
    "vscode": {
     "languageId": "polyglot-notebook"
    }
   },
   "outputs": [
    {
     "data": {
      "text/html": [
       "<div><div></div><div></div><div><strong>Installed Packages</strong><ul><li><span>ScottPlot, 5.0.36</span></li></ul></div></div>"
      ]
     },
     "metadata": {},
     "output_type": "display_data"
    },
    {
     "data": {
      "text/plain": [
       "Loading extensions from `C:\\Users\\gamec\\.nuget\\packages\\skiasharp\\2.88.8\\interactive-extensions\\dotnet\\SkiaSharp.DotNet.Interactive.dll`"
      ]
     },
     "metadata": {},
     "output_type": "display_data"
    }
   ],
   "source": [
    "#r \"nuget:ScottPlot, 5.0.36\""
   ]
  },
  {
   "cell_type": "code",
   "execution_count": null,
   "id": "f1c2c050",
   "metadata": {
    "vscode": {
     "languageId": "polyglot-notebook"
    }
   },
   "outputs": [],
   "source": [
    "using Microsoft.DotNet.Interactive.Formatting;\n",
    "using ScottPlot;"
   ]
  },
  {
   "cell_type": "code",
   "execution_count": null,
   "id": "7f1f9725",
   "metadata": {
    "vscode": {
     "languageId": "polyglot-notebook"
    }
   },
   "outputs": [],
   "source": [
    "Formatter.Register(typeof(ScottPlot.Plot), (plt, writer) => \n",
    "    writer.Write(((ScottPlot.Plot)plt).GetImageHtml(300,400)), HtmlFormatter.MimeType);"
   ]
  },
  {
   "cell_type": "code",
   "execution_count": null,
   "id": "863ceeff",
   "metadata": {
    "vscode": {
     "languageId": "polyglot-notebook"
    }
   },
   "outputs": [],
   "source": [
    "double[] ages = Enumerable.Range(0, (int)df.Rows.Count).Select(x => Convert.ToDouble(df[\"Age\"][x])).ToArray();\n",
    "double[] heights = Enumerable.Range(0, (int)df.Rows.Count).Select(x => Convert.ToDouble(df[\"Height\"][x])).ToArray();"
   ]
  },
  {
   "cell_type": "code",
   "execution_count": null,
   "id": "40060e2d",
   "metadata": {
    "vscode": {
     "languageId": "polyglot-notebook"
    }
   },
   "outputs": [
    {
     "data": {
      "text/html": [
       "<img src=\"data:image/png;base64,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\"></img>"
      ]
     },
     "metadata": {},
     "output_type": "display_data"
    }
   ],
   "source": [
    "var plt = new ScottPlot.Plot();\n",
    "plt.Add.Scatter(ages, heights);\n",
    "plt.XLabel(\"Age\");\n",
    "plt.YLabel(\"Height\");\n",
    "plt"
   ]
  },
  {
   "cell_type": "code",
   "execution_count": null,
   "id": "406b5f84",
   "metadata": {
    "dotnet_interactive": {
     "language": "csharp"
    },
    "polyglot_notebook": {
     "kernelName": "csharp"
    },
    "vscode": {
     "languageId": "polyglot-notebook"
    }
   },
   "outputs": [
    {
     "data": {
      "text/html": [
       "<img src=\"data:image/png;base64,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\"></img>"
      ]
     },
     "metadata": {},
     "output_type": "display_data"
    }
   ],
   "source": [
    "ScottPlot.Plot myPlot = new();\n",
    "\n",
    "double[] xs = new double[] { 1, 2, 3, 4, 5, 6, 7 };\n",
    "double[] ys = new double[] { 2, 2, 3, 3, 3.8, 4.2, 4 };\n",
    "\n",
    "// plot original data as a scatter plot\n",
    "var sp = myPlot.Add.Scatter(xs, ys);\n",
    "sp.LineWidth = 0;\n",
    "sp.MarkerSize = 10;\n",
    "\n",
    "// calculate the regression line\n",
    "ScottPlot.Statistics.LinearRegression reg = new(xs, ys);\n",
    "\n",
    "// plot the regression line\n",
    "Coordinates pt1 = new(xs.First(), reg.GetValue(xs.First()));\n",
    "Coordinates pt2 = new(xs.Last(), reg.GetValue(xs.Last()));\n",
    "var line = myPlot.Add.Line(pt1, pt2);\n",
    "line.MarkerSize = 0;\n",
    "line.LineWidth = 2;\n",
    "line.LinePattern = LinePattern.Dashed;\n",
    "\n",
    "// note the formula at the top of the plot\n",
    "myPlot.Title(reg.FormulaWithRSquared);\n",
    "\n",
    "// myPlot.SavePng(\"demo.png\", 400, 300);\n",
    "myPlot"
   ]
  },
  {
   "cell_type": "markdown",
   "id": "c38c032f",
   "metadata": {},
   "source": [
    "r은 결정계수를 의미, 1에 가까울수록 모델이 데이터를 잘 설명한다는 것을 의미"
   ]
  }
 ],
 "metadata": {
  "kernelspec": {
   "display_name": ".NET (C#)",
   "language": "C#",
   "name": ".net-csharp"
  },
  "language_info": {
   "file_extension": ".cs",
   "mimetype": "text/x-csharp",
   "name": "C#",
   "pygments_lexer": "csharp",
   "version": "12.0"
  },
  "polyglot_notebook": {
   "kernelInfo": {
    "defaultKernelName": "csharp",
    "items": [
     {
      "aliases": [],
      "name": "csharp"
     }
    ]
   }
  }
 },
 "nbformat": 4,
 "nbformat_minor": 5
}
