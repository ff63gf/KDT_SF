{
 "cells": [
  {
   "cell_type": "code",
   "execution_count": null,
   "metadata": {
    "dotnet_interactive": {
     "language": "csharp"
    },
    "polyglot_notebook": {
     "kernelName": "csharp"
    },
    "vscode": {
     "languageId": "polyglot-notebook"
    }
   },
   "outputs": [
    {
     "data": {
      "text/html": [
       "<div><div></div><div></div><div><strong>Installed Packages</strong><ul><li><span>Microsoft.Data.Analysis, 0.21.0</span></li></ul></div></div>"
      ]
     },
     "metadata": {},
     "output_type": "display_data"
    },
    {
     "data": {
      "text/plain": [
       "Loading extensions from `C:\\Users\\gamec\\.nuget\\packages\\microsoft.data.analysis\\0.21.0\\interactive-extensions\\dotnet\\Microsoft.Data.Analysis.Interactive.dll`"
      ]
     },
     "metadata": {},
     "output_type": "display_data"
    }
   ],
   "source": [
    "#r \"nuget:Microsoft.Data.Analysis,0.21.0\""
   ]
  },
  {
   "cell_type": "code",
   "execution_count": null,
   "metadata": {
    "vscode": {
     "languageId": "polyglot-notebook"
    }
   },
   "outputs": [],
   "source": [
    "using Microsoft.Data.Analysis;"
   ]
  },
  {
   "cell_type": "code",
   "execution_count": null,
   "metadata": {
    "vscode": {
     "languageId": "polyglot-notebook"
    }
   },
   "outputs": [],
   "source": [
    "using System.IO;\n",
    "using System.Linq;\n",
    "\n",
    "// Define data path\n",
    "var dataPath = Path.GetFullPath(@\"prices.csv\");\n",
    "\n",
    "// Load the data into the data frame\n",
    "var dataFrame = DataFrame.LoadCsv(dataPath);"
   ]
  },
  {
   "cell_type": "code",
   "execution_count": null,
   "metadata": {
    "vscode": {
     "languageId": "polyglot-notebook"
    }
   },
   "outputs": [
    {
     "data": {
      "text/html": [
       "<table id=\"table_638561244219892843\"><thead><tr><th><i>index</i></th><th>Id</th><th>Size</th><th>HistoricalPrice</th><th>CurrentPrice</th></tr></thead><tbody><tr><td><i><div class=\"dni-plaintext\"><pre>0</pre></div></i></td><td><div class=\"dni-plaintext\"><pre>1</pre></div></td><td>600f</td><td><div class=\"dni-plaintext\"><pre>100000</pre></div></td><td><div class=\"dni-plaintext\"><pre>170000</pre></div></td></tr><tr><td><i><div class=\"dni-plaintext\"><pre>1</pre></div></i></td><td><div class=\"dni-plaintext\"><pre>2</pre></div></td><td>1000f</td><td><div class=\"dni-plaintext\"><pre>200000</pre></div></td><td><div class=\"dni-plaintext\"><pre>225000</pre></div></td></tr><tr><td><i><div class=\"dni-plaintext\"><pre>2</pre></div></i></td><td><div class=\"dni-plaintext\"><pre>3</pre></div></td><td>1000f</td><td><div class=\"dni-plaintext\"><pre>126000</pre></div></td><td><div class=\"dni-plaintext\"><pre>195000</pre></div></td></tr><tr><td><i><div class=\"dni-plaintext\"><pre>3</pre></div></i></td><td><div class=\"dni-plaintext\"><pre>4</pre></div></td><td>850f</td><td><div class=\"dni-plaintext\"><pre>150000</pre></div></td><td><div class=\"dni-plaintext\"><pre>205000</pre></div></td></tr><tr><td><i><div class=\"dni-plaintext\"><pre>4</pre></div></i></td><td><div class=\"dni-plaintext\"><pre>5</pre></div></td><td>900f</td><td><div class=\"dni-plaintext\"><pre>155000</pre></div></td><td><div class=\"dni-plaintext\"><pre>210000</pre></div></td></tr><tr><td><i><div class=\"dni-plaintext\"><pre>5</pre></div></i></td><td><div class=\"dni-plaintext\"><pre>6</pre></div></td><td>550f</td><td><div class=\"dni-plaintext\"><pre>99000</pre></div></td><td><div class=\"dni-plaintext\"><pre>180000</pre></div></td></tr></tbody></table><style>\r\n",
       ".dni-code-hint {\r\n",
       "    font-style: italic;\r\n",
       "    overflow: hidden;\r\n",
       "    white-space: nowrap;\r\n",
       "}\r\n",
       ".dni-treeview {\r\n",
       "    white-space: nowrap;\r\n",
       "}\r\n",
       ".dni-treeview td {\r\n",
       "    vertical-align: top;\r\n",
       "    text-align: start;\r\n",
       "}\r\n",
       "details.dni-treeview {\r\n",
       "    padding-left: 1em;\r\n",
       "}\r\n",
       "table td {\r\n",
       "    text-align: start;\r\n",
       "}\r\n",
       "table tr { \r\n",
       "    vertical-align: top; \r\n",
       "    margin: 0em 0px;\r\n",
       "}\r\n",
       "table tr td pre \r\n",
       "{ \r\n",
       "    vertical-align: top !important; \r\n",
       "    margin: 0em 0px !important;\r\n",
       "} \r\n",
       "table th {\r\n",
       "    text-align: start;\r\n",
       "}\r\n",
       "</style>"
      ]
     },
     "metadata": {},
     "output_type": "display_data"
    }
   ],
   "source": [
    "dataFrame"
   ]
  },
  {
   "cell_type": "markdown",
   "metadata": {},
   "source": [
    "c#에서는 특정 열을 index로 사용하는 기능 없음"
   ]
  },
  {
   "cell_type": "code",
   "execution_count": null,
   "metadata": {
    "vscode": {
     "languageId": "polyglot-notebook"
    }
   },
   "outputs": [],
   "source": [
    "data"
   ]
  },
  {
   "cell_type": "code",
   "execution_count": null,
   "metadata": {
    "vscode": {
     "languageId": "polyglot-notebook"
    }
   },
   "outputs": [
    {
     "data": {
      "text/html": [
       "<table id=\"table_638561244221975634\"><thead><tr><th><i>index</i></th><th>Description</th><th>Id</th><th>HistoricalPrice</th><th>CurrentPrice</th></tr></thead><tbody><tr><td><i><div class=\"dni-plaintext\"><pre>0</pre></div></i></td><td>Length (excluding null values)</td><td><div class=\"dni-plaintext\"><pre>6</pre></div></td><td><div class=\"dni-plaintext\"><pre>6</pre></div></td><td><div class=\"dni-plaintext\"><pre>6</pre></div></td></tr><tr><td><i><div class=\"dni-plaintext\"><pre>1</pre></div></i></td><td>Max</td><td><div class=\"dni-plaintext\"><pre>6</pre></div></td><td><div class=\"dni-plaintext\"><pre>200000</pre></div></td><td><div class=\"dni-plaintext\"><pre>225000</pre></div></td></tr><tr><td><i><div class=\"dni-plaintext\"><pre>2</pre></div></i></td><td>Min</td><td><div class=\"dni-plaintext\"><pre>1</pre></div></td><td><div class=\"dni-plaintext\"><pre>99000</pre></div></td><td><div class=\"dni-plaintext\"><pre>170000</pre></div></td></tr><tr><td><i><div class=\"dni-plaintext\"><pre>3</pre></div></i></td><td>Mean</td><td><div class=\"dni-plaintext\"><pre>3.5</pre></div></td><td><div class=\"dni-plaintext\"><pre>138333.33</pre></div></td><td><div class=\"dni-plaintext\"><pre>197500</pre></div></td></tr></tbody></table><style>\r\n",
       ".dni-code-hint {\r\n",
       "    font-style: italic;\r\n",
       "    overflow: hidden;\r\n",
       "    white-space: nowrap;\r\n",
       "}\r\n",
       ".dni-treeview {\r\n",
       "    white-space: nowrap;\r\n",
       "}\r\n",
       ".dni-treeview td {\r\n",
       "    vertical-align: top;\r\n",
       "    text-align: start;\r\n",
       "}\r\n",
       "details.dni-treeview {\r\n",
       "    padding-left: 1em;\r\n",
       "}\r\n",
       "table td {\r\n",
       "    text-align: start;\r\n",
       "}\r\n",
       "table tr { \r\n",
       "    vertical-align: top; \r\n",
       "    margin: 0em 0px;\r\n",
       "}\r\n",
       "table tr td pre \r\n",
       "{ \r\n",
       "    vertical-align: top !important; \r\n",
       "    margin: 0em 0px !important;\r\n",
       "} \r\n",
       "table th {\r\n",
       "    text-align: start;\r\n",
       "}\r\n",
       "</style>"
      ]
     },
     "metadata": {},
     "output_type": "display_data"
    }
   ],
   "source": [
    "dataFrame.Description()"
   ]
  },
  {
   "cell_type": "code",
   "execution_count": null,
   "metadata": {
    "vscode": {
     "languageId": "polyglot-notebook"
    }
   },
   "outputs": [
    {
     "data": {
      "text/html": [
       "<table id=\"table_638561244222819167\"><thead><tr><th><i>index</i></th><th>Info</th><th>Id</th><th>Size</th><th>HistoricalPrice</th><th>CurrentPrice</th></tr></thead><tbody><tr><td><i><div class=\"dni-plaintext\"><pre>0</pre></div></i></td><td>DataType</td><td>System.Single</td><td>System.String</td><td>System.Single</td><td>System.Single</td></tr><tr><td><i><div class=\"dni-plaintext\"><pre>1</pre></div></i></td><td>Length (excluding null values)</td><td>6</td><td>6</td><td>6</td><td>6</td></tr></tbody></table><style>\r\n",
       ".dni-code-hint {\r\n",
       "    font-style: italic;\r\n",
       "    overflow: hidden;\r\n",
       "    white-space: nowrap;\r\n",
       "}\r\n",
       ".dni-treeview {\r\n",
       "    white-space: nowrap;\r\n",
       "}\r\n",
       ".dni-treeview td {\r\n",
       "    vertical-align: top;\r\n",
       "    text-align: start;\r\n",
       "}\r\n",
       "details.dni-treeview {\r\n",
       "    padding-left: 1em;\r\n",
       "}\r\n",
       "table td {\r\n",
       "    text-align: start;\r\n",
       "}\r\n",
       "table tr { \r\n",
       "    vertical-align: top; \r\n",
       "    margin: 0em 0px;\r\n",
       "}\r\n",
       "table tr td pre \r\n",
       "{ \r\n",
       "    vertical-align: top !important; \r\n",
       "    margin: 0em 0px !important;\r\n",
       "} \r\n",
       "table th {\r\n",
       "    text-align: start;\r\n",
       "}\r\n",
       "</style>"
      ]
     },
     "metadata": {},
     "output_type": "display_data"
    }
   ],
   "source": [
    "dataFrame.Info()"
   ]
  },
  {
   "cell_type": "code",
   "execution_count": null,
   "metadata": {
    "vscode": {
     "languageId": "polyglot-notebook"
    }
   },
   "outputs": [
    {
     "data": {
      "text/html": [
       "<div><div></div><div></div><div><strong>Installed Packages</strong><ul><li><span>ScottPlot, 5.0.36</span></li></ul></div></div>"
      ]
     },
     "metadata": {},
     "output_type": "display_data"
    },
    {
     "data": {
      "text/plain": [
       "Loading extensions from `C:\\Users\\gamec\\.nuget\\packages\\skiasharp\\2.88.8\\interactive-extensions\\dotnet\\SkiaSharp.DotNet.Interactive.dll`"
      ]
     },
     "metadata": {},
     "output_type": "display_data"
    }
   ],
   "source": [
    "#r \"nuget:ScottPlot, 5.0.36\""
   ]
  },
  {
   "cell_type": "code",
   "execution_count": null,
   "metadata": {
    "vscode": {
     "languageId": "polyglot-notebook"
    }
   },
   "outputs": [],
   "source": [
    "using Microsoft.DotNet.Interactive.Formatting;\n",
    "Formatter.Register(typeof(ScottPlot.Plot), (p, w) => \n",
    "    w.Write(((ScottPlot.Plot)p).GetImageHtml(400, 300)), HtmlFormatter.MimeType);"
   ]
  },
  {
   "cell_type": "code",
   "execution_count": null,
   "metadata": {
    "vscode": {
     "languageId": "polyglot-notebook"
    }
   },
   "outputs": [],
   "source": [
    "using ScottPlot;\n",
    "using Microsoft.Data.Analysis;\n",
    "using System;\n",
    "using System.Linq;"
   ]
  },
  {
   "cell_type": "code",
   "execution_count": null,
   "metadata": {
    "vscode": {
     "languageId": "polyglot-notebook"
    }
   },
   "outputs": [
    {
     "data": {
      "text/html": [
       "<table id=\"table_638561252439610315\"><thead><tr><th><i>index</i></th><th>Temperature</th><th>Humidity</th></tr></thead><tbody><tr><td><i><div class=\"dni-plaintext\"><pre>0</pre></div></i></td><td><div class=\"dni-plaintext\"><pre>-0.5611118066874854</pre></div></td><td><div class=\"dni-plaintext\"><pre>-0.7710339435241343</pre></div></td></tr><tr><td><i><div class=\"dni-plaintext\"><pre>1</pre></div></i></td><td><div class=\"dni-plaintext\"><pre>-0.530177294989199</pre></div></td><td><div class=\"dni-plaintext\"><pre>-0.6613219304295825</pre></div></td></tr><tr><td><i><div class=\"dni-plaintext\"><pre>2</pre></div></i></td><td><div class=\"dni-plaintext\"><pre>-0.06723893530072589</pre></div></td><td><div class=\"dni-plaintext\"><pre>-0.49907898181075194</pre></div></td></tr><tr><td><i><div class=\"dni-plaintext\"><pre>3</pre></div></i></td><td><div class=\"dni-plaintext\"><pre>0</pre></div></td><td><div class=\"dni-plaintext\"><pre>-0.45867352162426056</pre></div></td></tr><tr><td><i><div class=\"dni-plaintext\"><pre>4</pre></div></i></td><td><div class=\"dni-plaintext\"><pre>0.04219424726543686</pre></div></td><td><div class=\"dni-plaintext\"><pre>-0.19193865088370565</pre></div></td></tr><tr><td><i><div class=\"dni-plaintext\"><pre>5</pre></div></i></td><td><div class=\"dni-plaintext\"><pre>0.20801632115990676</pre></div></td><td><div class=\"dni-plaintext\"><pre>0</pre></div></td></tr><tr><td><i><div class=\"dni-plaintext\"><pre>6</pre></div></i></td><td><div class=\"dni-plaintext\"><pre>0.3480600427594316</pre></div></td><td><div class=\"dni-plaintext\"><pre>0.21239099940862083</pre></div></td></tr><tr><td><i><div class=\"dni-plaintext\"><pre>7</pre></div></i></td><td><div class=\"dni-plaintext\"><pre>0.35710498660668044</pre></div></td><td><div class=\"dni-plaintext\"><pre>0.2817032627210502</pre></div></td></tr><tr><td><i><div class=\"dni-plaintext\"><pre>8</pre></div></i></td><td><div class=\"dni-plaintext\"><pre>0.6519619001317591</pre></div></td><td><div class=\"dni-plaintext\"><pre>0.3777959483572263</pre></div></td></tr><tr><td><i><div class=\"dni-plaintext\"><pre>9</pre></div></i></td><td><div class=\"dni-plaintext\"><pre>0.7445110304954048</pre></div></td><td><div class=\"dni-plaintext\"><pre>0.9633444677867667</pre></div></td></tr></tbody></table><style>\r\n",
       ".dni-code-hint {\r\n",
       "    font-style: italic;\r\n",
       "    overflow: hidden;\r\n",
       "    white-space: nowrap;\r\n",
       "}\r\n",
       ".dni-treeview {\r\n",
       "    white-space: nowrap;\r\n",
       "}\r\n",
       ".dni-treeview td {\r\n",
       "    vertical-align: top;\r\n",
       "    text-align: start;\r\n",
       "}\r\n",
       "details.dni-treeview {\r\n",
       "    padding-left: 1em;\r\n",
       "}\r\n",
       "table td {\r\n",
       "    text-align: start;\r\n",
       "}\r\n",
       "table tr { \r\n",
       "    vertical-align: top; \r\n",
       "    margin: 0em 0px;\r\n",
       "}\r\n",
       "table tr td pre \r\n",
       "{ \r\n",
       "    vertical-align: top !important; \r\n",
       "    margin: 0em 0px !important;\r\n",
       "} \r\n",
       "table th {\r\n",
       "    text-align: start;\r\n",
       "}\r\n",
       "</style>"
      ]
     },
     "metadata": {},
     "output_type": "display_data"
    }
   ],
   "source": [
    "ScottPlot.RandomDataGenerator generator = new ScottPlot.RandomDataGenerator();\n",
    "double[] tempData = generator.RandomWalk(10);\n",
    "double[] humidData = generator.RandomWalk(10);\n",
    "// double[] tempData = Generate.Random(10, 100);\n",
    "// double[] humidData = Generate.Random(10, 100);\n",
    "\n",
    "Array.Sort(tempData);\n",
    "Array.Sort(humidData);\n",
    "\n",
    "DoubleDataFrameColumn colTemp = new DoubleDataFrameColumn(\"Temperature\", tempData);\n",
    "DoubleDataFrameColumn colHumid = new DoubleDataFrameColumn(\"Humidity\", humidData);\n",
    "DataFrameColumn[] columns = { colTemp, colHumid };\n",
    "DataFrame df = new DataFrame(columns);\n",
    "\n",
    "// extract data into double arrays\n",
    "// double[] xs = Enumerable.Range(0, (int)df.Rows.Count).Select(row => Convert.ToDouble(df[\"Temperature\"][row])).ToArray();\n",
    "// double[] ys = Enumerable.Range(0, (int)df.Rows.Count).Select(row => Convert.ToDouble(df[\"Humidity\"][row])).ToArray();\n",
    "double[] xs = df[\"Temperature\"].Cast<double>().ToArray();\n",
    "double[] ys = df[\"Humidity\"].Cast<double>().ToArray();\n",
    "\n",
    "double[] dataX = { 1, 2, 3, 4, 5 };\n",
    "double[] dataY = { 1, 4, 9, 16, 25 };\n",
    "\n",
    "ScottPlot.Plot myPlot = new();\n",
    "myPlot.Add.Scatter(xs, ys);\n",
    "\n",
    "// myPlot.SavePng(\"quickstart.png\", 400, 300); // 이미지로 저장\n",
    "df"
   ]
  },
  {
   "cell_type": "code",
   "execution_count": null,
   "metadata": {
    "vscode": {
     "languageId": "polyglot-notebook"
    }
   },
   "outputs": [
    {
     "data": {
      "text/html": [
       "<img src=\"data:image/png;base64,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\"></img>"
      ]
     },
     "metadata": {},
     "output_type": "display_data"
    }
   ],
   "source": [
    "myPlot"
   ]
  },
  {
   "cell_type": "code",
   "execution_count": null,
   "metadata": {
    "vscode": {
     "languageId": "polyglot-notebook"
    }
   },
   "outputs": [
    {
     "name": "stdout",
     "output_type": "stream",
     "text": [
      "1, 0.8576186433702794, 1.6708482413882613, 0.6887233241874366, 0.46011021801275664, -0.37033840658624595, -0.7789247593744308, 0.0423117270890212, 0.14169226360586107, -0.1380386353181855\r\n"
     ]
    }
   ],
   "source": [
    "ScottPlot.RandomDataGenerator generator = new ScottPlot.RandomDataGenerator();\n",
    "double[] aa = generator.RandomWalk(10, 1, 1, 0);\n",
    "Console.WriteLine(string.Join(\", \", aa));"
   ]
  }
 ],
 "metadata": {
  "kernelspec": {
   "display_name": ".NET (C#)",
   "language": "C#",
   "name": ".net-csharp"
  },
  "language_info": {
   "name": "python",
   "version": "3.10.10"
  },
  "polyglot_notebook": {
   "kernelInfo": {
    "defaultKernelName": "csharp",
    "items": [
     {
      "aliases": [],
      "languageName": "csharp",
      "name": "csharp"
     }
    ]
   }
  }
 },
 "nbformat": 4,
 "nbformat_minor": 2
}
